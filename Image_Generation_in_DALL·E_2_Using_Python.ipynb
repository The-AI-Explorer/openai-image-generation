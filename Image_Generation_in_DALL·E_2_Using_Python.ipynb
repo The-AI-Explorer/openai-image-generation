{
  "nbformat": 4,
  "nbformat_minor": 0,
  "metadata": {
    "colab": {
      "provenance": []
    },
    "kernelspec": {
      "name": "python3",
      "display_name": "Python 3"
    },
    "language_info": {
      "name": "python"
    }
  },
  "cells": [
    {
      "cell_type": "code",
      "source": [
        "!pip install openai==0.28"
      ],
      "metadata": {
        "id": "A1dSH17jTWY9"
      },
      "execution_count": null,
      "outputs": []
    },
    {
      "cell_type": "code",
      "execution_count": 16,
      "metadata": {
        "id": "PgxZb3PHNK05"
      },
      "outputs": [],
      "source": [
        "import openai\n",
        "openai.api_key = \"<youe-api-key>\""
      ]
    },
    {
      "cell_type": "code",
      "source": [
        "prompt = \"playing footbal on moon\"\n",
        "\n",
        "response = openai.Image.create(\n",
        "    prompt = prompt,\n",
        "    n = 1,\n",
        "    size = \"512x512\",\n",
        "    quality = \"standard\",\n",
        ")\n",
        "\n",
        "image_url = response[\"data\"][0][\"url\"]"
      ],
      "metadata": {
        "id": "qcdfmGc-UfoB"
      },
      "execution_count": 17,
      "outputs": []
    },
    {
      "cell_type": "code",
      "source": [
        "import requests\n",
        "\n",
        "img_data = requests.get(image_url).content\n",
        "with open('image_name.jpg', 'wb') as handler:\n",
        "    handler.write(img_data)"
      ],
      "metadata": {
        "id": "cFCqEGcZUghs"
      },
      "execution_count": 18,
      "outputs": []
    },
    {
      "cell_type": "code",
      "source": [],
      "metadata": {
        "id": "QjiewyWpXwPG"
      },
      "execution_count": null,
      "outputs": []
    }
  ]
}